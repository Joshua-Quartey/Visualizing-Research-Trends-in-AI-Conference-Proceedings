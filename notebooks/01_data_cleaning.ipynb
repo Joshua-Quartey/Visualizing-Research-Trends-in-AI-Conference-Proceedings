{
 "cells": [
  {
   "cell_type": "markdown",
   "metadata": {},
   "source": [
    "## Data Cleaning and Preprocessing"
   ]
  },
  {
   "cell_type": "code",
   "execution_count": 1,
   "metadata": {},
   "outputs": [],
   "source": [
    "import config"
   ]
  },
  {
   "cell_type": "markdown",
   "metadata": {},
   "source": [
    "### Loading and Inspecting the Dataset"
   ]
  },
  {
   "cell_type": "code",
   "execution_count": 2,
   "metadata": {},
   "outputs": [
    {
     "name": "stdout",
     "output_type": "stream",
     "text": [
      "<class 'pandas.core.frame.DataFrame'>\n",
      "RangeIndex: 164607 entries, 0 to 164606\n",
      "Data columns (total 18 columns):\n",
      " #   Column                         Non-Null Count   Dtype \n",
      "---  ------                         --------------   ----- \n",
      " 0   Unnamed: 0                     164607 non-null  int64 \n",
      " 1   Authors                        164534 non-null  object\n",
      " 2   Author full names              164534 non-null  object\n",
      " 3   Author(s) ID                   164534 non-null  object\n",
      " 4   Title                          164607 non-null  object\n",
      " 5   Year                           164607 non-null  int64 \n",
      " 6   Source title                   164607 non-null  object\n",
      " 7   Cited by                       164607 non-null  int64 \n",
      " 8   Link                           164607 non-null  object\n",
      " 9   Affiliations                   164214 non-null  object\n",
      " 10  Authors with affiliations      164214 non-null  object\n",
      " 11  Author Keywords                133883 non-null  object\n",
      " 12  Correspondence Address         51022 non-null   object\n",
      " 13  Language of Original Document  164607 non-null  object\n",
      " 14  Abbreviated Source Title       164598 non-null  object\n",
      " 15  Document Type                  164607 non-null  object\n",
      " 16  Open Access                    28020 non-null   object\n",
      " 17  Source                         164607 non-null  object\n",
      "dtypes: int64(3), object(15)\n",
      "memory usage: 22.6+ MB\n"
     ]
    }
   ],
   "source": [
    "df = config.main()[0]\n",
    "df.info()"
   ]
  },
  {
   "cell_type": "code",
   "execution_count": 3,
   "metadata": {},
   "outputs": [
    {
     "data": {
      "text/plain": [
       "Unnamed: 0                            0\n",
       "Authors                              73\n",
       "Author full names                    73\n",
       "Author(s) ID                         73\n",
       "Title                                 0\n",
       "Year                                  0\n",
       "Source title                          0\n",
       "Cited by                              0\n",
       "Link                                  0\n",
       "Affiliations                        393\n",
       "Authors with affiliations           393\n",
       "Author Keywords                   30724\n",
       "Correspondence Address           113585\n",
       "Language of Original Document         0\n",
       "Abbreviated Source Title              9\n",
       "Document Type                         0\n",
       "Open Access                      136587\n",
       "Source                                0\n",
       "dtype: int64"
      ]
     },
     "execution_count": 3,
     "metadata": {},
     "output_type": "execute_result"
    }
   ],
   "source": [
    "df.isna().sum()"
   ]
  },
  {
   "cell_type": "code",
   "execution_count": 4,
   "metadata": {},
   "outputs": [
    {
     "data": {
      "text/html": [
       "<div>\n",
       "<style scoped>\n",
       "    .dataframe tbody tr th:only-of-type {\n",
       "        vertical-align: middle;\n",
       "    }\n",
       "\n",
       "    .dataframe tbody tr th {\n",
       "        vertical-align: top;\n",
       "    }\n",
       "\n",
       "    .dataframe thead th {\n",
       "        text-align: right;\n",
       "    }\n",
       "</style>\n",
       "<table border=\"1\" class=\"dataframe\">\n",
       "  <thead>\n",
       "    <tr style=\"text-align: right;\">\n",
       "      <th></th>\n",
       "      <th>Unnamed: 0</th>\n",
       "      <th>Authors</th>\n",
       "      <th>Author full names</th>\n",
       "      <th>Author(s) ID</th>\n",
       "      <th>Title</th>\n",
       "      <th>Year</th>\n",
       "      <th>Source title</th>\n",
       "      <th>Cited by</th>\n",
       "      <th>Link</th>\n",
       "      <th>Affiliations</th>\n",
       "      <th>Authors with affiliations</th>\n",
       "      <th>Author Keywords</th>\n",
       "      <th>Correspondence Address</th>\n",
       "      <th>Language of Original Document</th>\n",
       "      <th>Abbreviated Source Title</th>\n",
       "      <th>Document Type</th>\n",
       "      <th>Open Access</th>\n",
       "      <th>Source</th>\n",
       "    </tr>\n",
       "  </thead>\n",
       "  <tbody>\n",
       "    <tr>\n",
       "      <th>0</th>\n",
       "      <td>0</td>\n",
       "      <td>Goyal R.; Spognardi A.; Dragoni N.; Argyriou M.</td>\n",
       "      <td>Goyal, Rohit (57189905591); Spognardi, Angelo ...</td>\n",
       "      <td>57189905591; 8556724500; 8308455900; 57193158613</td>\n",
       "      <td>SafeDroid: A distributed malware detection ser...</td>\n",
       "      <td>2016</td>\n",
       "      <td>Proceedings - 2016 IEEE 9th International Conf...</td>\n",
       "      <td>24</td>\n",
       "      <td>https://www.scopus.com/inward/record.uri?eid=2...</td>\n",
       "      <td>DTU Compute, Technical University of Denmark, ...</td>\n",
       "      <td>Goyal R., DTU Compute, Technical University of...</td>\n",
       "      <td>NaN</td>\n",
       "      <td>NaN</td>\n",
       "      <td>English</td>\n",
       "      <td>Proc. - IEEE Int. Conf. Serv.-Oriented Comput....</td>\n",
       "      <td>Conference paper</td>\n",
       "      <td>All Open Access; Green Open Access</td>\n",
       "      <td>Scopus</td>\n",
       "    </tr>\n",
       "    <tr>\n",
       "      <th>1</th>\n",
       "      <td>1</td>\n",
       "      <td>Giri A.; Bhagavath M.V.V.; Pruthvi B.; Dubey N.</td>\n",
       "      <td>Giri, Animesh (57193057558); Bhagavath, M Vign...</td>\n",
       "      <td>57193057558; 57193130687; 57193134821; 5719313...</td>\n",
       "      <td>A Placement Prediction System using k-nearest ...</td>\n",
       "      <td>2016</td>\n",
       "      <td>Proceedings - 2016 2nd International Conferenc...</td>\n",
       "      <td>29</td>\n",
       "      <td>https://www.scopus.com/inward/record.uri?eid=2...</td>\n",
       "      <td>Department of Information Science and Engineer...</td>\n",
       "      <td>Giri A., Department of Information Science and...</td>\n",
       "      <td>K-Nearest Neighbors; Logistic Regression; Pred...</td>\n",
       "      <td>NaN</td>\n",
       "      <td>English</td>\n",
       "      <td>Proc. - Int. Conf. Cogn. Comput. Inf. Process....</td>\n",
       "      <td>Conference paper</td>\n",
       "      <td>NaN</td>\n",
       "      <td>Scopus</td>\n",
       "    </tr>\n",
       "    <tr>\n",
       "      <th>2</th>\n",
       "      <td>2</td>\n",
       "      <td>Shimizu R.; Yanagawa S.; Monde Y.; Yamagishi H...</td>\n",
       "      <td>Shimizu, Ryota (57193057206); Yanagawa, Shusuk...</td>\n",
       "      <td>57193057206; 7005437999; 57193061654; 57193061...</td>\n",
       "      <td>Deep learning application trial to lung cancer...</td>\n",
       "      <td>2016</td>\n",
       "      <td>ISOCC 2016 - International SoC Design Conferen...</td>\n",
       "      <td>19</td>\n",
       "      <td>https://www.scopus.com/inward/record.uri?eid=2...</td>\n",
       "      <td>Faculty of Science and Technology, Keio Univer...</td>\n",
       "      <td>Shimizu R., Faculty of Science and Technology,...</td>\n",
       "      <td>Deep learning; Deep neural network; Gas chroma...</td>\n",
       "      <td>NaN</td>\n",
       "      <td>English</td>\n",
       "      <td>ISOCC - Int. SoC Des. Conf.: Smart SoC Intell....</td>\n",
       "      <td>Conference paper</td>\n",
       "      <td>NaN</td>\n",
       "      <td>Scopus</td>\n",
       "    </tr>\n",
       "    <tr>\n",
       "      <th>3</th>\n",
       "      <td>3</td>\n",
       "      <td>Hosein P.; Boodhoo S.</td>\n",
       "      <td>Hosein, Patrick (6602800746); Boodhoo, Steffan...</td>\n",
       "      <td>6602800746; 57193154394</td>\n",
       "      <td>Event scheduling with soft constraints and on-...</td>\n",
       "      <td>2016</td>\n",
       "      <td>2016 IEEE International Conference on Knowledg...</td>\n",
       "      <td>3</td>\n",
       "      <td>https://www.scopus.com/inward/record.uri?eid=2...</td>\n",
       "      <td>Department of Computer Science, University of ...</td>\n",
       "      <td>Hosein P., Department of Computer Science, Uni...</td>\n",
       "      <td>Decision Support System; Electronic Calendar; ...</td>\n",
       "      <td>NaN</td>\n",
       "      <td>English</td>\n",
       "      <td>IEEE Int. Conf. Knowl. Eng. Appl., ICKEA</td>\n",
       "      <td>Conference paper</td>\n",
       "      <td>NaN</td>\n",
       "      <td>Scopus</td>\n",
       "    </tr>\n",
       "    <tr>\n",
       "      <th>4</th>\n",
       "      <td>4</td>\n",
       "      <td>Li Z.; Au C.W.; Kakiuchi Y.; Okada K.; Inaba M.</td>\n",
       "      <td>Li, Zijia (57193030089); Au, Chi Wun (57188843...</td>\n",
       "      <td>57193030089; 57188843180; 36801518100; 7404191...</td>\n",
       "      <td>What am i doing? Robotic self-action recognition</td>\n",
       "      <td>2016</td>\n",
       "      <td>IEEE-RAS International Conference on Humanoid ...</td>\n",
       "      <td>2</td>\n",
       "      <td>https://www.scopus.com/inward/record.uri?eid=2...</td>\n",
       "      <td>Graduate School of Information Science and Tec...</td>\n",
       "      <td>Li Z., Graduate School of Information Science ...</td>\n",
       "      <td>NaN</td>\n",
       "      <td>NaN</td>\n",
       "      <td>English</td>\n",
       "      <td>IEEE-RAS Int. Conf. Humanoid Rob.</td>\n",
       "      <td>Conference paper</td>\n",
       "      <td>NaN</td>\n",
       "      <td>Scopus</td>\n",
       "    </tr>\n",
       "  </tbody>\n",
       "</table>\n",
       "</div>"
      ],
      "text/plain": [
       "   Unnamed: 0                                            Authors  \\\n",
       "0           0    Goyal R.; Spognardi A.; Dragoni N.; Argyriou M.   \n",
       "1           1    Giri A.; Bhagavath M.V.V.; Pruthvi B.; Dubey N.   \n",
       "2           2  Shimizu R.; Yanagawa S.; Monde Y.; Yamagishi H...   \n",
       "3           3                              Hosein P.; Boodhoo S.   \n",
       "4           4    Li Z.; Au C.W.; Kakiuchi Y.; Okada K.; Inaba M.   \n",
       "\n",
       "                                   Author full names  \\\n",
       "0  Goyal, Rohit (57189905591); Spognardi, Angelo ...   \n",
       "1  Giri, Animesh (57193057558); Bhagavath, M Vign...   \n",
       "2  Shimizu, Ryota (57193057206); Yanagawa, Shusuk...   \n",
       "3  Hosein, Patrick (6602800746); Boodhoo, Steffan...   \n",
       "4  Li, Zijia (57193030089); Au, Chi Wun (57188843...   \n",
       "\n",
       "                                        Author(s) ID  \\\n",
       "0   57189905591; 8556724500; 8308455900; 57193158613   \n",
       "1  57193057558; 57193130687; 57193134821; 5719313...   \n",
       "2  57193057206; 7005437999; 57193061654; 57193061...   \n",
       "3                            6602800746; 57193154394   \n",
       "4  57193030089; 57188843180; 36801518100; 7404191...   \n",
       "\n",
       "                                               Title  Year  \\\n",
       "0  SafeDroid: A distributed malware detection ser...  2016   \n",
       "1  A Placement Prediction System using k-nearest ...  2016   \n",
       "2  Deep learning application trial to lung cancer...  2016   \n",
       "3  Event scheduling with soft constraints and on-...  2016   \n",
       "4   What am i doing? Robotic self-action recognition  2016   \n",
       "\n",
       "                                        Source title  Cited by  \\\n",
       "0  Proceedings - 2016 IEEE 9th International Conf...        24   \n",
       "1  Proceedings - 2016 2nd International Conferenc...        29   \n",
       "2  ISOCC 2016 - International SoC Design Conferen...        19   \n",
       "3  2016 IEEE International Conference on Knowledg...         3   \n",
       "4  IEEE-RAS International Conference on Humanoid ...         2   \n",
       "\n",
       "                                                Link  \\\n",
       "0  https://www.scopus.com/inward/record.uri?eid=2...   \n",
       "1  https://www.scopus.com/inward/record.uri?eid=2...   \n",
       "2  https://www.scopus.com/inward/record.uri?eid=2...   \n",
       "3  https://www.scopus.com/inward/record.uri?eid=2...   \n",
       "4  https://www.scopus.com/inward/record.uri?eid=2...   \n",
       "\n",
       "                                        Affiliations  \\\n",
       "0  DTU Compute, Technical University of Denmark, ...   \n",
       "1  Department of Information Science and Engineer...   \n",
       "2  Faculty of Science and Technology, Keio Univer...   \n",
       "3  Department of Computer Science, University of ...   \n",
       "4  Graduate School of Information Science and Tec...   \n",
       "\n",
       "                           Authors with affiliations  \\\n",
       "0  Goyal R., DTU Compute, Technical University of...   \n",
       "1  Giri A., Department of Information Science and...   \n",
       "2  Shimizu R., Faculty of Science and Technology,...   \n",
       "3  Hosein P., Department of Computer Science, Uni...   \n",
       "4  Li Z., Graduate School of Information Science ...   \n",
       "\n",
       "                                     Author Keywords Correspondence Address  \\\n",
       "0                                                NaN                    NaN   \n",
       "1  K-Nearest Neighbors; Logistic Regression; Pred...                    NaN   \n",
       "2  Deep learning; Deep neural network; Gas chroma...                    NaN   \n",
       "3  Decision Support System; Electronic Calendar; ...                    NaN   \n",
       "4                                                NaN                    NaN   \n",
       "\n",
       "  Language of Original Document  \\\n",
       "0                       English   \n",
       "1                       English   \n",
       "2                       English   \n",
       "3                       English   \n",
       "4                       English   \n",
       "\n",
       "                            Abbreviated Source Title     Document Type  \\\n",
       "0  Proc. - IEEE Int. Conf. Serv.-Oriented Comput....  Conference paper   \n",
       "1  Proc. - Int. Conf. Cogn. Comput. Inf. Process....  Conference paper   \n",
       "2  ISOCC - Int. SoC Des. Conf.: Smart SoC Intell....  Conference paper   \n",
       "3           IEEE Int. Conf. Knowl. Eng. Appl., ICKEA  Conference paper   \n",
       "4                  IEEE-RAS Int. Conf. Humanoid Rob.  Conference paper   \n",
       "\n",
       "                          Open Access  Source  \n",
       "0  All Open Access; Green Open Access  Scopus  \n",
       "1                                 NaN  Scopus  \n",
       "2                                 NaN  Scopus  \n",
       "3                                 NaN  Scopus  \n",
       "4                                 NaN  Scopus  "
      ]
     },
     "execution_count": 4,
     "metadata": {},
     "output_type": "execute_result"
    }
   ],
   "source": [
    "df.head()"
   ]
  },
  {
   "cell_type": "markdown",
   "metadata": {},
   "source": [
    "### Handling Missing Data"
   ]
  },
  {
   "cell_type": "code",
   "execution_count": 5,
   "metadata": {},
   "outputs": [
    {
     "name": "stdout",
     "output_type": "stream",
     "text": [
      "(164607, 18)\n",
      "(164607, 17)\n"
     ]
    }
   ],
   "source": [
    "print(df.shape)\n",
    "df = config.clean.clean_missing_values(df)\n",
    "print(df.shape)"
   ]
  },
  {
   "cell_type": "code",
   "execution_count": 6,
   "metadata": {},
   "outputs": [
    {
     "data": {
      "text/plain": [
       "Index(['Unnamed: 0', 'Authors', 'Author full names', 'Author(s) ID', 'Title',\n",
       "       'Year', 'Source title', 'Cited by', 'Link', 'Affiliations',\n",
       "       'Authors with affiliations', 'Author Keywords',\n",
       "       'Correspondence Address', 'Language of Original Document',\n",
       "       'Abbreviated Source Title', 'Document Type', 'Source'],\n",
       "      dtype='object')"
      ]
     },
     "execution_count": 6,
     "metadata": {},
     "output_type": "execute_result"
    }
   ],
   "source": [
    "df.columns"
   ]
  },
  {
   "cell_type": "code",
   "execution_count": 7,
   "metadata": {},
   "outputs": [
    {
     "data": {
      "text/plain": [
       "Unnamed: 0                            0\n",
       "Authors                              73\n",
       "Author full names                    73\n",
       "Author(s) ID                         73\n",
       "Title                                 0\n",
       "Year                                  0\n",
       "Source title                          0\n",
       "Cited by                              0\n",
       "Link                                  0\n",
       "Affiliations                        393\n",
       "Authors with affiliations           393\n",
       "Author Keywords                   30724\n",
       "Correspondence Address           113585\n",
       "Language of Original Document         0\n",
       "Abbreviated Source Title              9\n",
       "Document Type                         0\n",
       "Source                                0\n",
       "dtype: int64"
      ]
     },
     "execution_count": 7,
     "metadata": {},
     "output_type": "execute_result"
    }
   ],
   "source": [
    "df.isna().sum()"
   ]
  },
  {
   "cell_type": "code",
   "execution_count": 8,
   "metadata": {},
   "outputs": [
    {
     "name": "stdout",
     "output_type": "stream",
     "text": [
      "<class 'pandas.core.frame.DataFrame'>\n",
      "RangeIndex: 164607 entries, 0 to 164606\n",
      "Data columns (total 17 columns):\n",
      " #   Column                         Non-Null Count   Dtype \n",
      "---  ------                         --------------   ----- \n",
      " 0   Unnamed: 0                     164607 non-null  int64 \n",
      " 1   Authors                        164534 non-null  object\n",
      " 2   Author full names              164534 non-null  object\n",
      " 3   Author(s) ID                   164534 non-null  object\n",
      " 4   Title                          164607 non-null  object\n",
      " 5   Year                           164607 non-null  int64 \n",
      " 6   Source title                   164607 non-null  object\n",
      " 7   Cited by                       164607 non-null  int64 \n",
      " 8   Link                           164607 non-null  object\n",
      " 9   Affiliations                   164214 non-null  object\n",
      " 10  Authors with affiliations      164214 non-null  object\n",
      " 11  Author Keywords                133883 non-null  object\n",
      " 12  Correspondence Address         51022 non-null   object\n",
      " 13  Language of Original Document  164607 non-null  object\n",
      " 14  Abbreviated Source Title       164598 non-null  object\n",
      " 15  Document Type                  164607 non-null  object\n",
      " 16  Source                         164607 non-null  object\n",
      "dtypes: int64(3), object(14)\n",
      "memory usage: 21.3+ MB\n"
     ]
    }
   ],
   "source": [
    "df.info()"
   ]
  },
  {
   "cell_type": "markdown",
   "metadata": {},
   "source": [
    "### Drop columns"
   ]
  },
  {
   "cell_type": "code",
   "execution_count": 9,
   "metadata": {},
   "outputs": [
    {
     "name": "stdout",
     "output_type": "stream",
     "text": [
      "<class 'pandas.core.frame.DataFrame'>\n",
      "RangeIndex: 164607 entries, 0 to 164606\n",
      "Data columns (total 14 columns):\n",
      " #   Column                         Non-Null Count   Dtype \n",
      "---  ------                         --------------   ----- \n",
      " 0   Unnamed: 0                     164607 non-null  int64 \n",
      " 1   Authors                        164534 non-null  object\n",
      " 2   Author full names              164534 non-null  object\n",
      " 3   Author(s) ID                   164534 non-null  object\n",
      " 4   Title                          164607 non-null  object\n",
      " 5   Year                           164607 non-null  int64 \n",
      " 6   Source title                   164607 non-null  object\n",
      " 7   Cited by                       164607 non-null  int64 \n",
      " 8   Affiliations                   164214 non-null  object\n",
      " 9   Authors with affiliations      164214 non-null  object\n",
      " 10  Author Keywords                133883 non-null  object\n",
      " 11  Correspondence Address         51022 non-null   object\n",
      " 12  Language of Original Document  164607 non-null  object\n",
      " 13  Abbreviated Source Title       164598 non-null  object\n",
      "dtypes: int64(3), object(11)\n",
      "memory usage: 17.6+ MB\n"
     ]
    }
   ],
   "source": [
    "df = config.clean.clean_drop(df)\n",
    "df.info()"
   ]
  },
  {
   "cell_type": "markdown",
   "metadata": {},
   "source": [
    "### Type Conversions"
   ]
  },
  {
   "cell_type": "code",
   "execution_count": 10,
   "metadata": {},
   "outputs": [],
   "source": [
    "df = config.clean.types_conversion(df)"
   ]
  },
  {
   "cell_type": "code",
   "execution_count": 11,
   "metadata": {},
   "outputs": [
    {
     "name": "stdout",
     "output_type": "stream",
     "text": [
      "<class 'pandas.core.frame.DataFrame'>\n",
      "RangeIndex: 164607 entries, 0 to 164606\n",
      "Data columns (total 14 columns):\n",
      " #   Column                         Non-Null Count   Dtype \n",
      "---  ------                         --------------   ----- \n",
      " 0   Unnamed: 0                     164607 non-null  int64 \n",
      " 1   Authors                        164534 non-null  object\n",
      " 2   Author full names              164534 non-null  object\n",
      " 3   Author(s) ID                   164534 non-null  object\n",
      " 4   Title                          164607 non-null  object\n",
      " 5   Year                           164607 non-null  int64 \n",
      " 6   Source title                   164607 non-null  object\n",
      " 7   Cited by                       164607 non-null  int64 \n",
      " 8   Affiliations                   164214 non-null  object\n",
      " 9   Authors with affiliations      164214 non-null  object\n",
      " 10  Author Keywords                133883 non-null  object\n",
      " 11  Correspondence Address         51022 non-null   object\n",
      " 12  Language of Original Document  164607 non-null  object\n",
      " 13  Abbreviated Source Title       164598 non-null  object\n",
      "dtypes: int64(3), object(11)\n",
      "memory usage: 17.6+ MB\n"
     ]
    }
   ],
   "source": [
    "df.info()"
   ]
  },
  {
   "cell_type": "markdown",
   "metadata": {},
   "source": [
    "### Extracting and Cleaning Data Using Regex"
   ]
  },
  {
   "cell_type": "code",
   "execution_count": 12,
   "metadata": {},
   "outputs": [],
   "source": [
    "df, country_list, authors = config.clean.reformat_values(df)"
   ]
  },
  {
   "cell_type": "code",
   "execution_count": 13,
   "metadata": {},
   "outputs": [
    {
     "name": "stdout",
     "output_type": "stream",
     "text": [
      "<class 'pandas.core.frame.DataFrame'>\n",
      "RangeIndex: 164607 entries, 0 to 164606\n",
      "Data columns (total 15 columns):\n",
      " #   Column                         Non-Null Count   Dtype \n",
      "---  ------                         --------------   ----- \n",
      " 0   Unnamed: 0                     164607 non-null  int64 \n",
      " 1   Authors                        164534 non-null  object\n",
      " 2   Author full names              164534 non-null  object\n",
      " 3   Author(s) ID                   164534 non-null  object\n",
      " 4   Title                          164607 non-null  object\n",
      " 5   Year                           164607 non-null  int64 \n",
      " 6   Source title                   164607 non-null  object\n",
      " 7   Cited by                       164607 non-null  int64 \n",
      " 8   Affiliations                   164214 non-null  object\n",
      " 9   Authors with affiliations      164214 non-null  object\n",
      " 10  Author Keywords                133883 non-null  object\n",
      " 11  Correspondence Address         51022 non-null   object\n",
      " 12  Language of Original Document  164607 non-null  object\n",
      " 13  Abbreviated Source Title       164598 non-null  object\n",
      " 14  Countries                      164607 non-null  object\n",
      "dtypes: int64(3), object(12)\n",
      "memory usage: 18.8+ MB\n"
     ]
    }
   ],
   "source": [
    "df.info()"
   ]
  },
  {
   "cell_type": "code",
   "execution_count": 14,
   "metadata": {},
   "outputs": [
    {
     "data": {
      "text/plain": [
       "0                  Denmark, Denmark, Sweden, Denmark\n",
       "1                         India, India, India, India\n",
       "2    Japan, Japan, Japan, Japan, Japan, Japan, Japan\n",
       "3           Trinidad and Tobago, Trinidad and Tobago\n",
       "4                  Japan, Japan, Japan, Japan, Japan\n",
       "Name: Countries, dtype: object"
      ]
     },
     "execution_count": 14,
     "metadata": {},
     "output_type": "execute_result"
    }
   ],
   "source": [
    "df[\"Countries\"].head()"
   ]
  },
  {
   "cell_type": "code",
   "execution_count": 15,
   "metadata": {},
   "outputs": [
    {
     "data": {
      "text/html": [
       "<div>\n",
       "<style scoped>\n",
       "    .dataframe tbody tr th:only-of-type {\n",
       "        vertical-align: middle;\n",
       "    }\n",
       "\n",
       "    .dataframe tbody tr th {\n",
       "        vertical-align: top;\n",
       "    }\n",
       "\n",
       "    .dataframe thead th {\n",
       "        text-align: right;\n",
       "    }\n",
       "</style>\n",
       "<table border=\"1\" class=\"dataframe\">\n",
       "  <thead>\n",
       "    <tr style=\"text-align: right;\">\n",
       "      <th></th>\n",
       "      <th>Author ID</th>\n",
       "      <th>Author name</th>\n",
       "    </tr>\n",
       "  </thead>\n",
       "  <tbody>\n",
       "    <tr>\n",
       "      <th>0</th>\n",
       "      <td>57189905591</td>\n",
       "      <td>Goyal, Rohit</td>\n",
       "    </tr>\n",
       "    <tr>\n",
       "      <th>1</th>\n",
       "      <td>8556724500</td>\n",
       "      <td>Spognardi, Angelo</td>\n",
       "    </tr>\n",
       "    <tr>\n",
       "      <th>2</th>\n",
       "      <td>8308455900</td>\n",
       "      <td>Dragoni, Nicola</td>\n",
       "    </tr>\n",
       "    <tr>\n",
       "      <th>3</th>\n",
       "      <td>57193158613</td>\n",
       "      <td>Argyriou, Marios</td>\n",
       "    </tr>\n",
       "    <tr>\n",
       "      <th>4</th>\n",
       "      <td>57193057558</td>\n",
       "      <td>Giri, Animesh</td>\n",
       "    </tr>\n",
       "  </tbody>\n",
       "</table>\n",
       "</div>"
      ],
      "text/plain": [
       "     Author ID          Author name\n",
       "0  57189905591        Goyal, Rohit \n",
       "1   8556724500   Spognardi, Angelo \n",
       "2   8308455900     Dragoni, Nicola \n",
       "3  57193158613    Argyriou, Marios \n",
       "4  57193057558       Giri, Animesh "
      ]
     },
     "execution_count": 15,
     "metadata": {},
     "output_type": "execute_result"
    }
   ],
   "source": [
    "authors.head()"
   ]
  }
 ],
 "metadata": {
  "kernelspec": {
   "display_name": "Python 3",
   "language": "python",
   "name": "python3"
  },
  "language_info": {
   "codemirror_mode": {
    "name": "ipython",
    "version": 3
   },
   "file_extension": ".py",
   "mimetype": "text/x-python",
   "name": "python",
   "nbconvert_exporter": "python",
   "pygments_lexer": "ipython3",
   "version": "3.10.2"
  }
 },
 "nbformat": 4,
 "nbformat_minor": 2
}
