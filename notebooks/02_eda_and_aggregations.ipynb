{
 "cells": [
  {
   "cell_type": "markdown",
   "metadata": {},
   "source": [
    "## EDA and Data Aggregations"
   ]
  },
  {
   "cell_type": "code",
   "execution_count": 15,
   "metadata": {},
   "outputs": [],
   "source": [
    "import config\n",
    "import pandas as pd"
   ]
  },
  {
   "cell_type": "code",
   "execution_count": null,
   "metadata": {},
   "outputs": [
    {
     "name": "stdout",
     "output_type": "stream",
     "text": [
      "<class 'pandas.core.frame.DataFrame'>\n"
     ]
    }
   ],
   "source": [
    "df  = config.main()[1]\n",
    "valid_countries = config.clean.valid_countries \n",
    "authors = config.clean.authors"
   ]
  },
  {
   "cell_type": "code",
   "execution_count": 18,
   "metadata": {},
   "outputs": [
    {
     "data": {
      "text/html": [
       "<div>\n",
       "<style scoped>\n",
       "    .dataframe tbody tr th:only-of-type {\n",
       "        vertical-align: middle;\n",
       "    }\n",
       "\n",
       "    .dataframe tbody tr th {\n",
       "        vertical-align: top;\n",
       "    }\n",
       "\n",
       "    .dataframe thead th {\n",
       "        text-align: right;\n",
       "    }\n",
       "</style>\n",
       "<table border=\"1\" class=\"dataframe\">\n",
       "  <thead>\n",
       "    <tr style=\"text-align: right;\">\n",
       "      <th></th>\n",
       "      <th>0</th>\n",
       "    </tr>\n",
       "  </thead>\n",
       "  <tbody>\n",
       "    <tr>\n",
       "      <th>Total number of countries</th>\n",
       "      <td>105.00</td>\n",
       "    </tr>\n",
       "    <tr>\n",
       "      <th>Number of languages</th>\n",
       "      <td>10.00</td>\n",
       "    </tr>\n",
       "    <tr>\n",
       "      <th>Total number of authors</th>\n",
       "      <td>532492.00</td>\n",
       "    </tr>\n",
       "    <tr>\n",
       "      <th>Average citations per document</th>\n",
       "      <td>4.49</td>\n",
       "    </tr>\n",
       "  </tbody>\n",
       "</table>\n",
       "</div>"
      ],
      "text/plain": [
       "                                        0\n",
       "Total number of countries          105.00\n",
       "Number of languages                 10.00\n",
       "Total number of authors         532492.00\n",
       "Average citations per document       4.49"
      ]
     },
     "execution_count": 18,
     "metadata": {},
     "output_type": "execute_result"
    }
   ],
   "source": [
    "c = [len(valid_countries),\n",
    "     df.loc[:,\"Language of Original Document\"].unique().shape[0],\n",
    "     authors.shape[0],\n",
    "     round(df[\"Cited by\"].sum()/authors.shape[0],2)\n",
    "    ]\n",
    "summary_df = pd.DataFrame( c, index=[\"Total number of countries\", \"Number of languages\", \"Total number of authors\", \"Average citations per document\"])\n",
    "summary_df"
   ]
  },
  {
   "cell_type": "code",
   "execution_count": 19,
   "metadata": {},
   "outputs": [
    {
     "data": {
      "text/plain": [
       "Language of Original Document\n",
       "English        163489\n",
       "Turkish           771\n",
       "Spanish           157\n",
       "Portuguese        152\n",
       "French             24\n",
       "Russian             7\n",
       "Chinese             3\n",
       "Arabic              2\n",
       "Azerbaijani         1\n",
       "German              1\n",
       "Name: count, dtype: int64"
      ]
     },
     "execution_count": 19,
     "metadata": {},
     "output_type": "execute_result"
    }
   ],
   "source": [
    "df[\"Language of Original Document\"].value_counts()"
   ]
  },
  {
   "cell_type": "code",
   "execution_count": 24,
   "metadata": {},
   "outputs": [
    {
     "data": {
      "text/plain": [
       "Countries\n",
       "China                     159031\n",
       "United States              97402\n",
       "India                      94773\n",
       "Germany                    17543\n",
       "United Kingdom             17315\n",
       "Japan                      16808\n",
       "South Korea                12518\n",
       "Canada                     11782\n",
       "Italy                      11032\n",
       "Unknown                    10066\n",
       "France                     10015\n",
       "Indonesia                   9288\n",
       "Australia                   9193\n",
       "Taiwan                      8901\n",
       "Bangladesh                  8440\n",
       "Brazil                      8029\n",
       "Singapore                   6322\n",
       "Turkey                      5535\n",
       "Spain                       5263\n",
       "Malaysia                    5024\n",
       "Greece                      4606\n",
       "Hong Kong                   4594\n",
       "Russian Federation          4497\n",
       "Switzerland                 4205\n",
       "Romania                     3897\n",
       "Pakistan                    3858\n",
       "Netherlands                 3665\n",
       "Philippines                 3403\n",
       "Viet Nam                    3361\n",
       "Thailand                    3192\n",
       "Sri Lanka                   2795\n",
       "Sweden                      2730\n",
       "Morocco                     2644\n",
       "Egypt                       2621\n",
       "United Arab Emirates        2602\n",
       "Portugal                    2509\n",
       "Saudi Arabia                2433\n",
       "Austria                     2319\n",
       "Finland                     2233\n",
       "Iran                        2218\n",
       "Ireland                     2119\n",
       "Israel                      1938\n",
       "Poland                      1822\n",
       "Iraq                        1722\n",
       "Belgium                     1713\n",
       "Norway                      1610\n",
       "South Africa                1564\n",
       "Tunisia                     1468\n",
       "Mexico                      1464\n",
       "Ukraine                     1421\n",
       "New Zealand                 1285\n",
       "Denmark                     1273\n",
       "Algeria                     1248\n",
       "Czech Republic              1145\n",
       "Jordan                      1058\n",
       "Colombia                     813\n",
       "Nigeria                      778\n",
       "Ecuador                      753\n",
       "Peru                         687\n",
       "Hungary                      677\n",
       "Chile                        647\n",
       "Qatar                        643\n",
       "Bulgaria                     637\n",
       "Macao                        624\n",
       "Kazakhstan                   548\n",
       "Luxembourg                   534\n",
       "Slovakia                     485\n",
       "Slovenia                     448\n",
       "Cyprus                       440\n",
       "Lebanon                      422\n",
       "Serbia                       365\n",
       "Croatia                      293\n",
       "Estonia                      289\n",
       "Oman                         285\n",
       "Uzbekistan                   275\n",
       "Bahrain                      255\n",
       "Argentina                    240\n",
       "Ethiopia                     217\n",
       "Myanmar                      196\n",
       "Kenya                        177\n",
       "Yemen                        175\n",
       "North Macedonia              172\n",
       "Palestine                    163\n",
       "Latvia                       154\n",
       "Malta                        149\n",
       "Nepal                        144\n",
       "Uganda                       135\n",
       "Senegal                      132\n",
       "Sudan                        129\n",
       "Lithuania                    128\n",
       "Mauritius                    126\n",
       "Kuwait                       113\n",
       "Costa Rica                   104\n",
       "Bosnia and Herzegovina        96\n",
       "Uruguay                       92\n",
       "Ghana                         89\n",
       "Trinidad and Tobago           82\n",
       "Brunei Darussalam             81\n",
       "Fiji                          81\n",
       "Iceland                       81\n",
       "Rwanda                        80\n",
       "Azerbaijan                    70\n",
       "Libya                         67\n",
       "Tanzania                      66\n",
       "Namibia                       65\n",
       "Name: count, dtype: int64"
      ]
     },
     "execution_count": 24,
     "metadata": {},
     "output_type": "execute_result"
    }
   ],
   "source": [
    "countries = df['Countries'].str.split(', ').explode().value_counts()\n",
    "pd.set_option('display.max_columns', None)  \n",
    "pd.set_option('display.max_rows', None)\n",
    "\n",
    "countries"
   ]
  }
 ],
 "metadata": {
  "kernelspec": {
   "display_name": "Python 3",
   "language": "python",
   "name": "python3"
  },
  "language_info": {
   "codemirror_mode": {
    "name": "ipython",
    "version": 3
   },
   "file_extension": ".py",
   "mimetype": "text/x-python",
   "name": "python",
   "nbconvert_exporter": "python",
   "pygments_lexer": "ipython3",
   "version": "3.10.2"
  }
 },
 "nbformat": 4,
 "nbformat_minor": 2
}
